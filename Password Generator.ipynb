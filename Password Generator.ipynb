{
 "cells": [
  {
   "cell_type": "code",
   "execution_count": 12,
   "id": "06b15809",
   "metadata": {},
   "outputs": [
    {
     "name": "stdout",
     "output_type": "stream",
     "text": [
      "Enter password length: 10\n",
      "Generated password:   5s%#TEA3Gk\n"
     ]
    }
   ],
   "source": [
    "import random\n",
    "import string\n",
    "\n",
    "def generate_password(length):\n",
    "    \"Generate a random password of specific length.\"\n",
    "    chars = string.ascii_letters + string.digits + string.punctuation\n",
    "    password = ''\n",
    "    for i in range(length):\n",
    "        password += random.choice(chars)\n",
    "        \n",
    "    return password\n",
    "length = int(input(\"Enter password length: \"))\n",
    "password = generate_password(length)\n",
    "print(\"Generated password:  \", password)"
   ]
  },
  {
   "cell_type": "code",
   "execution_count": null,
   "id": "96e5c76c",
   "metadata": {},
   "outputs": [],
   "source": []
  },
  {
   "cell_type": "code",
   "execution_count": null,
   "id": "feabbf25",
   "metadata": {},
   "outputs": [],
   "source": []
  }
 ],
 "metadata": {
  "kernelspec": {
   "display_name": "Python 3 (ipykernel)",
   "language": "python",
   "name": "python3"
  },
  "language_info": {
   "codemirror_mode": {
    "name": "ipython",
    "version": 3
   },
   "file_extension": ".py",
   "mimetype": "text/x-python",
   "name": "python",
   "nbconvert_exporter": "python",
   "pygments_lexer": "ipython3",
   "version": "3.9.13"
  }
 },
 "nbformat": 4,
 "nbformat_minor": 5
}
